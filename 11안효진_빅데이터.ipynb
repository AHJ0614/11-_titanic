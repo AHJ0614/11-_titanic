{
  "nbformat": 4,
  "nbformat_minor": 0,
  "metadata": {
    "colab": {
      "name": "11안효진_빅데이터.ipynb",
      "private_outputs": true,
      "provenance": []
    },
    "kernelspec": {
      "name": "python3",
      "display_name": "Python 3"
    },
    "language_info": {
      "name": "python"
    }
  },
  "cells": [
    {
      "cell_type": "code",
      "metadata": {
        "id": "oc8SDvVwtG3O"
      },
      "source": [
        "pip install numpy scipy matplotlib ipython scikit-learn pandas pillow imageio mglearn"
      ],
      "execution_count": null,
      "outputs": []
    },
    {
      "cell_type": "code",
      "metadata": {
        "id": "eXl4VBM-wz1F"
      },
      "source": [
        "pip install pandas"
      ],
      "execution_count": null,
      "outputs": []
    },
    {
      "cell_type": "code",
      "metadata": {
        "id": "WpiARP3QtL-i"
      },
      "source": [
        "from IPython.display import display\n",
        "import numpy as np\n",
        "import matplotlib.pyplot as plt\n",
        "import mglearn\n",
        "import sys\n",
        "import pandas as pd\n",
        "import matplotlib\n",
        "import numpy as np\n",
        "import scipy as sp\n",
        "import IPython\n",
        "import sklearn\n",
        "import seaborn as sns\n"
      ],
      "execution_count": null,
      "outputs": []
    },
    {
      "cell_type": "code",
      "metadata": {
        "id": "D93NnuG5BdMk"
      },
      "source": [
        "from pandas import Series,DataFrame"
      ],
      "execution_count": null,
      "outputs": []
    },
    {
      "cell_type": "code",
      "metadata": {
        "id": "4Zaig5ubvQ_V"
      },
      "source": [
        "titanic ='/content/drive/파이썬/타이타닉/titanic.csv'"
      ],
      "execution_count": null,
      "outputs": []
    },
    {
      "cell_type": "code",
      "metadata": {
        "id": "n8Wyx0ItydsC"
      },
      "source": [
        "from google.colab import files\n",
        "myfile = files.upload()"
      ],
      "execution_count": null,
      "outputs": []
    },
    {
      "cell_type": "code",
      "metadata": {
        "id": "Ve3KFOfeynwK"
      },
      "source": [
        "import io\n",
        "import pandas as pd"
      ],
      "execution_count": null,
      "outputs": []
    },
    {
      "cell_type": "code",
      "metadata": {
        "id": "ppPKkGWAytpK"
      },
      "source": [
        "train = pd.read_csv(io.BytesIO(myfile['titanic.csv']))\n",
        "test = pd.read_csv(io.BytesIO(myfile['titanic.csv']))\n",
        "titanic_df = pd.read_csv(io.BytesIO(myfile['titanic.csv']))\n",
        "train.head()"
      ],
      "execution_count": null,
      "outputs": []
    },
    {
      "cell_type": "code",
      "metadata": {
        "id": "pOz7s7RnxvwC"
      },
      "source": [
        "type(titanic_df)"
      ],
      "execution_count": null,
      "outputs": []
    },
    {
      "cell_type": "code",
      "metadata": {
        "id": "5l40QhVgzHfi"
      },
      "source": [
        "train.shape"
      ],
      "execution_count": null,
      "outputs": []
    },
    {
      "cell_type": "markdown",
      "metadata": {
        "id": "_VGaWB1Nz18x"
      },
      "source": [
        "1.타이타닉호에 승선했던 승객은 누구인가?"
      ]
    },
    {
      "cell_type": "code",
      "metadata": {
        "id": "Q4xIzGUNzOgi"
      },
      "source": [
        "titanic_df.info()"
      ],
      "execution_count": null,
      "outputs": []
    },
    {
      "cell_type": "code",
      "metadata": {
        "id": "pfqz7JI69vSV"
      },
      "source": [
        "titanic_df.Pclass"
      ],
      "execution_count": null,
      "outputs": []
    },
    {
      "cell_type": "code",
      "metadata": {
        "id": "EfceMEFc1Ilx"
      },
      "source": [
        "titanic_df.head()"
      ],
      "execution_count": null,
      "outputs": []
    },
    {
      "cell_type": "markdown",
      "metadata": {
        "id": "ABvVqVe73EcX"
      },
      "source": [
        "승객들의 성비"
      ]
    },
    {
      "cell_type": "code",
      "metadata": {
        "id": "FYKP2jNc2Gvx"
      },
      "source": [
        "sns.factorplot('Sex',kind='count',data=titanic_df)"
      ],
      "execution_count": null,
      "outputs": []
    },
    {
      "cell_type": "markdown",
      "metadata": {
        "id": "HAu5nYUh3xHX"
      },
      "source": [
        "2.승객은 어떤 DECK에 있었으며, 그들의 CLASS와 어떤 관계가 있는가?"
      ]
    },
    {
      "cell_type": "code",
      "metadata": {
        "id": "kkVfSEEA_tvE"
      },
      "source": [
        "print(f'titanic_df의 형식: {type(titanic_df)}')\n",
        "print(f'Dataframe의 크기: {titanic_df.shape}')"
      ],
      "execution_count": null,
      "outputs": []
    },
    {
      "cell_type": "code",
      "metadata": {
        "id": "6_uvxAoR25tf"
      },
      "source": [
        "deck = titanic_df['Cabin'].dropna()\n",
        "deck.head(100)"
      ],
      "execution_count": null,
      "outputs": []
    },
    {
      "cell_type": "code",
      "metadata": {
        "id": "8mqaA3dO5Oq-"
      },
      "source": [
        "levels = []\n",
        "for level in deck:\n",
        "    levels.append(level[0])"
      ],
      "execution_count": null,
      "outputs": []
    },
    {
      "cell_type": "code",
      "metadata": {
        "id": "dqo9BSMN5cG-"
      },
      "source": [
        "cabin_df = DataFrame(levels)\n",
        "cabin_df.columns = ['Cabin']\n",
        "cabin_df.head()"
      ],
      "execution_count": null,
      "outputs": []
    },
    {
      "cell_type": "code",
      "metadata": {
        "id": "dzhBfFKs4I1Y"
      },
      "source": [
        "sns.factorplot('Cabin',kind='count',data=cabin_df)"
      ],
      "execution_count": null,
      "outputs": []
    },
    {
      "cell_type": "code",
      "metadata": {
        "id": "JnwA3KqpBEXT"
      },
      "source": [
        "cabin_df"
      ],
      "execution_count": null,
      "outputs": []
    },
    {
      "cell_type": "code",
      "metadata": {
        "id": "O7FRGmD-Cn5T"
      },
      "source": [
        "cabin_df = cabin_df[cabin_df.Cabin != 'T']"
      ],
      "execution_count": null,
      "outputs": []
    },
    {
      "cell_type": "code",
      "metadata": {
        "id": "AIxNEO8gDBzq"
      },
      "source": [
        "sns.factorplot('Cabin',kind='count',data=cabin_df)"
      ],
      "execution_count": null,
      "outputs": []
    },
    {
      "cell_type": "markdown",
      "metadata": {
        "id": "I2hDieJ8DVGi"
      },
      "source": [
        "3.어떤 요소가 승객을 생존하게 했는가?\n",
        "\n",
        "---\n",
        ">침몰한 타이타닉호에 어떤 요소가 생존률을 높였는지 분석\n",
        "\n",
        ">생존한 승객의 정보는 Survived에 0과 1로 표시\n",
        "\n",
        "\n",
        "\n",
        "\n",
        "\n",
        "\n"
      ]
    },
    {
      "cell_type": "markdown",
      "metadata": {
        "id": "6XugRgsIR_PV"
      },
      "source": [
        "1)생존률 확인"
      ]
    },
    {
      "cell_type": "code",
      "metadata": {
        "id": "ZF1EthBye_h_"
      },
      "source": [
        "titanic_df[\"Survivor\"] = titanic_df.Survived.map({0:\"no\",1:\"yes\"})"
      ],
      "execution_count": null,
      "outputs": []
    },
    {
      "cell_type": "code",
      "metadata": {
        "id": "r-cp7g0gPlcH"
      },
      "source": [
        "titanic_df.groupby(['Sex','Survived'])['Survived'].count()"
      ],
      "execution_count": null,
      "outputs": []
    },
    {
      "cell_type": "code",
      "metadata": {
        "id": "NUpyROd8dEuY"
      },
      "source": [
        "pd.crosstab(titanic_df.Sex,titanic_df.Survived,margins=True).style.background_gradient(cmap='summer_r')"
      ],
      "execution_count": null,
      "outputs": []
    },
    {
      "cell_type": "markdown",
      "metadata": {
        "id": "MrVElURtZ6OB"
      },
      "source": [
        "남자:109 생존\n",
        "     468 사망\n",
        "여자:233 생존\n",
        "     81사망"
      ]
    },
    {
      "cell_type": "code",
      "metadata": {
        "id": "zF3Z8dbZPlZF"
      },
      "source": [
        "pd.crosstab(titanic_df.Pclass,titanic_df.Survived,margins=True).style.background_gradient(cmap='summer_r')"
      ],
      "execution_count": null,
      "outputs": []
    },
    {
      "cell_type": "markdown",
      "metadata": {
        "id": "feAYxr6FfE13"
      },
      "source": [
        "1클래스:136명 생존 2클래스:87명 생존 3클래스:119명 생존"
      ]
    },
    {
      "cell_type": "code",
      "metadata": {
        "id": "P3EJs_M2PlQm"
      },
      "source": [
        "sns.lmplot('Age','Survived',data=titanic_df)"
      ],
      "execution_count": null,
      "outputs": []
    },
    {
      "cell_type": "markdown",
      "metadata": {
        "id": "bTO6Ab1ZfTWP"
      },
      "source": [
        "연령대가 높아질 수록 생존률은 낮아짐"
      ]
    },
    {
      "cell_type": "markdown",
      "metadata": {
        "id": "3xnoWjgKPca2"
      },
      "source": [
        "2)Survived 에 0과 1로 표시 및 생존자 수"
      ]
    },
    {
      "cell_type": "code",
      "metadata": {
        "id": "WJGV6b4CDH4L"
      },
      "source": [
        "titanic_df[\"Survivor\"] = titanic_df.Survived.map({0:\"no\",1:\"yes\"})"
      ],
      "execution_count": null,
      "outputs": []
    },
    {
      "cell_type": "code",
      "metadata": {
        "id": "qLRF8aloO-BM"
      },
      "source": [
        "titanic_df.head()"
      ],
      "execution_count": null,
      "outputs": []
    },
    {
      "cell_type": "code",
      "metadata": {
        "id": "tRnuKfhNPCf1"
      },
      "source": [
        "titanic_df['Survivor'].value_counts()"
      ],
      "execution_count": null,
      "outputs": []
    },
    {
      "cell_type": "markdown",
      "metadata": {
        "id": "Ysxx-o9Vf7aI"
      },
      "source": [
        "생존자 :342명 , 사망자 549명"
      ]
    },
    {
      "cell_type": "markdown",
      "metadata": {
        "id": "HWVrdrsgX5NJ"
      },
      "source": [
        "4.생존자는 몇명인지 그래프로 알아보자"
      ]
    },
    {
      "cell_type": "code",
      "metadata": {
        "id": "JTVWWL8yPUj-"
      },
      "source": [
        "sns.factorplot('Survived',kind='count',data=titanic_df)"
      ],
      "execution_count": null,
      "outputs": []
    },
    {
      "cell_type": "markdown",
      "metadata": {
        "id": "PsTKBSgaXUgc"
      },
      "source": [
        "5. 생존확률에 어떤 요소가 작용했는지 알아보기 위해 Pclass 피쳐에 대해 \n",
        "> 다른 속성들과의 상관관계가 있는지 2개이상 속성으로 상관관계를 알아보자\n",
        "\n"
      ]
    },
    {
      "cell_type": "code",
      "metadata": {
        "id": "bR5V6xhQPlxX"
      },
      "source": [
        "sns.factorplot('Pclass','Survivor',data=titanic_df)"
      ],
      "execution_count": null,
      "outputs": []
    },
    {
      "cell_type": "code",
      "metadata": {
        "id": "3mavYilSPlu9"
      },
      "source": [
        "titanic_df.Pclass"
      ],
      "execution_count": null,
      "outputs": []
    },
    {
      "cell_type": "code",
      "metadata": {
        "id": "lXQjzstiPlsQ"
      },
      "source": [
        "sns.factorplot('Pclass','Survived',data=titanic_df,order=[1,2,3])"
      ],
      "execution_count": null,
      "outputs": []
    },
    {
      "cell_type": "markdown",
      "metadata": {
        "id": "TqD8oQc7SE81"
      },
      "source": [
        "클래스가 낮을수록 생존률이 낮아진다"
      ]
    },
    {
      "cell_type": "code",
      "metadata": {
        "id": "CCXxz_fmPlpv"
      },
      "source": [
        "sns.factorplot('Sex',kind='count',data=titanic_df)"
      ],
      "execution_count": null,
      "outputs": []
    },
    {
      "cell_type": "markdown",
      "metadata": {
        "id": "sBrzwQYWSIwE"
      },
      "source": [
        "여성보다 남성이 생존률이 높다"
      ]
    },
    {
      "cell_type": "code",
      "metadata": {
        "id": "RGLCgT87PlnK"
      },
      "source": [
        "sns.lmplot('Age','Survived',data=titanic_df)"
      ],
      "execution_count": null,
      "outputs": []
    },
    {
      "cell_type": "markdown",
      "metadata": {
        "id": "UWlCBYlESLp0"
      },
      "source": [
        "나이가 많을 수록 생존률이 낮다"
      ]
    },
    {
      "cell_type": "code",
      "metadata": {
        "id": "sJop6Ej_Plki"
      },
      "source": [
        "sns.lmplot('Age','Survived',hue='Pclass',data=titanic_df)"
      ],
      "execution_count": null,
      "outputs": []
    },
    {
      "cell_type": "markdown",
      "metadata": {
        "id": "Aiv3-2eCS99Y"
      },
      "source": [
        "클래스가 높고 나이가 어릴 수록 생존률이 올라가고, 클래스가 낮고 나이가 많을 수록생존률은 낮아진다."
      ]
    },
    {
      "cell_type": "code",
      "metadata": {
        "id": "sV9P1ikzPlh-"
      },
      "source": [
        "sns.lmplot('Age','Survived',hue='Sex',data=titanic_df)"
      ],
      "execution_count": null,
      "outputs": []
    },
    {
      "cell_type": "markdown",
      "metadata": {
        "id": "I7gApCITTvAM"
      },
      "source": [
        "남성은 나이가 많을수록 생존률이 낮고, 여성은 나이가 많을수록 생존률이 높다...?"
      ]
    },
    {
      "cell_type": "markdown",
      "metadata": {
        "id": "wL-Zs3LFT9Ss"
      },
      "source": [
        "나이,성별,클래스 간의 생존률 확인"
      ]
    },
    {
      "cell_type": "code",
      "metadata": {
        "id": "Mt20cJ9KYdWO"
      },
      "source": [
        ""
      ],
      "execution_count": null,
      "outputs": []
    }
  ]
}